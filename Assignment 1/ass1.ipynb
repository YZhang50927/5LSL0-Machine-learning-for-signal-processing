{
 "cells": [
  {
   "cell_type": "code",
   "execution_count": 12,
   "metadata": {},
   "outputs": [],
   "source": [
    "import numpy as np\n",
    "\n",
    "Rx = np.array([[5,-1,-2],[-1,5,-1],[-2,-1,5]])\n",
    "ryx = np.array([1,5.3,-3.9])"
   ]
  },
  {
   "cell_type": "markdown",
   "metadata": {},
   "source": [
    "1.2.1 a) $$w_0 = R_x^{-1}*r_{yx}$$"
   ]
  },
  {
   "cell_type": "code",
   "execution_count": 13,
   "metadata": {},
   "outputs": [
    {
     "name": "stdout",
     "output_type": "stream",
     "text": [
      "[ 0.2  1.  -0.5]\n"
     ]
    }
   ],
   "source": [
    "w0 = np.linalg.solve(Rx,ryx)\n",
    "print(w0)"
   ]
  },
  {
   "cell_type": "markdown",
   "metadata": {},
   "source": [
    "1.2.1 b) $$E[xe] = E[x(y-xW)] = E[xy] - E[xx] * W = r_{xy} - R_x * W, W = R_x^{-1} * rxy $$<br>\n",
    "         $$E[xe] = r_{xy} - R_x * R_x^{-1} * rxy = 0$$"
   ]
  },
  {
   "cell_type": "markdown",
   "metadata": {},
   "source": [
    "1.2.1 c) using LS, assume ergodicity \n",
    "$$ \\hat{R_x} = \\sum(x[k] * x[k])/N $$\n",
    "$$ \\hat{r_{xy}} = \\sum(x[k] * y[k])/N"
   ]
  },
  {
   "cell_type": "markdown",
   "metadata": {},
   "source": [
    "1.2.2 d) when k --> infinity <br>\n",
    "$$ w[k] = w_0 = R_x^{-1} * rxy $$"
   ]
  },
  {
   "cell_type": "markdown",
   "metadata": {},
   "source": [
    "1.2.2 e) $$a < 1/\\lambda_{max}$$"
   ]
  },
  {
   "cell_type": "code",
   "execution_count": 99,
   "metadata": {},
   "outputs": [
    {
     "name": "stdout",
     "output_type": "stream",
     "text": [
      "elgvals = [2.26794919 7.         5.73205081]\n",
      "a_max = 0.1428571428571429\n"
     ]
    }
   ],
   "source": [
    "lamb = np.linalg.eigvals(Rx)\n",
    "lamb_max = max(lamb)\n",
    "a = 1/lamb_max\n",
    "print('elgvals =', lamb)\n",
    "print('a_max =', a)"
   ]
  },
  {
   "cell_type": "markdown",
   "metadata": {},
   "source": [
    "1.2.2 f) GD: $$ w[k+1] = w[k] + 2\\alpha (r_{yx} - R_xw[k]) $$"
   ]
  },
  {
   "cell_type": "code",
   "execution_count": 98,
   "metadata": {},
   "outputs": [
    {
     "name": "stdout",
     "output_type": "stream",
     "text": [
      "data_shape = (10000, 2)\n"
     ]
    }
   ],
   "source": [
    "import csv\n",
    "csv_reader = csv.reader(open(\"assignment1_data.csv\"))\n",
    "\n",
    "x = []\n",
    "y = []\n",
    "data = []\n",
    "\n",
    "\n",
    "for row in csv_reader:\n",
    "    x.append(row[0])\n",
    "    y.append(row[1])\n",
    "    data.append(row)\n",
    "\n",
    "data = np.array(data)\n",
    "x = np.array(x)\n",
    "y = np.array(y)\n",
    "print('data_shape =',data.shape)\n",
    "\n"
   ]
  },
  {
   "cell_type": "code",
   "execution_count": null,
   "metadata": {},
   "outputs": [],
   "source": [
    "for i in data.shape[0]:\n",
    "    a"
   ]
  }
 ],
 "metadata": {
  "interpreter": {
   "hash": "a58ef1720100994ae030dcace9c358dd16068fb9b16414a4d7b2917647f3f235"
  },
  "kernelspec": {
   "display_name": "Python 3.9.7 ('base')",
   "language": "python",
   "name": "python3"
  },
  "language_info": {
   "codemirror_mode": {
    "name": "ipython",
    "version": 3
   },
   "file_extension": ".py",
   "mimetype": "text/x-python",
   "name": "python",
   "nbconvert_exporter": "python",
   "pygments_lexer": "ipython3",
   "version": "3.9.7"
  },
  "orig_nbformat": 4
 },
 "nbformat": 4,
 "nbformat_minor": 2
}
