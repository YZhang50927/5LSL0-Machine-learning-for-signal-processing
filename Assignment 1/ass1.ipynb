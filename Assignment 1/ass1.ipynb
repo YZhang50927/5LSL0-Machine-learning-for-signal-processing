{
 "cells": [
  {
   "cell_type": "code",
   "execution_count": 2,
   "metadata": {},
   "outputs": [],
   "source": [
    "import numpy as np\n",
    "\n",
    "Rx = np.array([[5,-1,-2],[-1,5,-1],[-2,-1,5]])\n",
    "ryx = np.array([1,5.3,-3.9])"
   ]
  },
  {
   "cell_type": "markdown",
   "metadata": {},
   "source": [
    "1.2.1 a) $$w_0 = R_x^{-1}*r_{yx}$$"
   ]
  },
  {
   "cell_type": "code",
   "execution_count": 3,
   "metadata": {},
   "outputs": [
    {
     "name": "stdout",
     "output_type": "stream",
     "text": [
      "[ 0.2  1.  -0.5]\n"
     ]
    }
   ],
   "source": [
    "w0 = np.linalg.solve(Rx,ryx)\n",
    "print(w0)"
   ]
  },
  {
   "cell_type": "markdown",
   "metadata": {},
   "source": [
    "1.2.1 b) $$E[xe] = E[x(y-xW)] = E[xy] - E[xx] * W = r_{xy} - R_x * W, W = R_x^{-1} * r_{xy} $$<br>\n",
    "         $$E[xe] = r_{xy} - R_x * R_x^{-1} * r_{xy} = 0$$"
   ]
  },
  {
   "cell_type": "markdown",
   "metadata": {},
   "source": [
    "1.2.1 c) using LS, assume ergodicity \n",
    "$$ \\hat{R_x} = \\sum(x[k] * x[k])/N $$\n",
    "$$ \\hat{r_{xy}} = \\sum(x[k] * y[k])/N"
   ]
  },
  {
   "cell_type": "markdown",
   "metadata": {},
   "source": [
    "1.2.2 d) when k --> infinity <br>\n",
    "$$ w[k] = w_0 = R_x^{-1} * r_{xy} $$"
   ]
  },
  {
   "cell_type": "markdown",
   "metadata": {},
   "source": [
    "1.2.2 e) $$a < 1/\\lambda_{max}$$"
   ]
  },
  {
   "cell_type": "code",
   "execution_count": 4,
   "metadata": {},
   "outputs": [
    {
     "name": "stdout",
     "output_type": "stream",
     "text": [
      "elgvals = [2.26794919 7.         5.73205081]\n",
      "a_max = 0.1428571428571429\n"
     ]
    }
   ],
   "source": [
    "lamb = np.linalg.eigvals(Rx)\n",
    "lamb_max = max(lamb)\n",
    "a = 1/lamb_max\n",
    "print('elgvals =', lamb)\n",
    "print('a_max =', a)"
   ]
  },
  {
   "cell_type": "markdown",
   "metadata": {},
   "source": [
    "1.2.2 f) GD: $$ w[k+1] = w[k] + 2\\alpha (r_{yx} - R_xw[k]) $$"
   ]
  },
  {
   "cell_type": "code",
   "execution_count": 48,
   "metadata": {},
   "outputs": [
    {
     "name": "stdout",
     "output_type": "stream",
     "text": [
      "data_shape = (10000, 2)\n"
     ]
    }
   ],
   "source": [
    "import csv\n",
    "from matplotlib import pyplot as plt\n",
    "csv_reader = csv.reader(open(\"assignment1_data.csv\"))\n",
    "\n",
    "x = []\n",
    "y = []\n",
    "data = []\n",
    "\n",
    "for row in csv_reader:\n",
    "    x.append(row[0])\n",
    "    y.append(row[1])\n",
    "    data.append(row)\n",
    "\n",
    "data = np.array(data)\n",
    "x = np.array(x)\n",
    "y = np.array(y)\n",
    "print('data_shape =',data.shape)\n",
    "\n"
   ]
  },
  {
   "cell_type": "code",
   "execution_count": 55,
   "metadata": {},
   "outputs": [
    {
     "name": "stdout",
     "output_type": "stream",
     "text": [
      "[ 0.2  1.  -0.5]\n"
     ]
    }
   ],
   "source": [
    "w = np.array([0,0,0])\n",
    "log = []\n",
    "w_0 = []\n",
    "w_1 = []\n",
    "w_2 = []\n",
    "a = 0.11\n",
    "for i in range(data.shape[0]):\n",
    "    log.append(w)\n",
    "    w_0.append(w[0])\n",
    "    w_1.append(w[1])\n",
    "    w_2.append(w[2])\n",
    "    w = w + 2*a*(ryx-Rx@w)\n",
    "log = np.array(log)\n",
    "w_0 = np.array(w_0)\n",
    "w_1 = np.array(w_1)\n",
    "w_2 = np.array(w_2)\n",
    "print(w)"
   ]
  },
  {
   "cell_type": "markdown",
   "metadata": {},
   "source": [
    "1.2.3 g)"
   ]
  },
  {
   "cell_type": "markdown",
   "metadata": {},
   "source": [
    "1.2.3 h) $$ \\alpha = 0.5 $$"
   ]
  },
  {
   "cell_type": "markdown",
   "metadata": {},
   "source": [
    "1.2.3 i) Newton: $$ w[k+1] = w[k] + 2\\alpha R_x^{-1} (r_{yx} - R_xw[k]) $$"
   ]
  },
  {
   "cell_type": "code",
   "execution_count": 65,
   "metadata": {},
   "outputs": [
    {
     "name": "stdout",
     "output_type": "stream",
     "text": [
      "[ 0.2  1.  -0.5]\n"
     ]
    }
   ],
   "source": [
    "w = np.array([0,0,0])\n",
    "log = []\n",
    "w_0 = []\n",
    "w_1 = []\n",
    "w_2 = []\n",
    "a = 0.1\n",
    "invR = np.linalg.inv(Rx)\n",
    "for i in range(data.shape[0]):\n",
    "    log.append(w)\n",
    "    w_0.append(w[0])\n",
    "    w_1.append(w[1])\n",
    "    w_2.append(w[2])\n",
    "    w = w + 2*a*invR@(ryx-Rx@w)\n",
    "log = np.array(log)\n",
    "w_0 = np.array(w_0)\n",
    "w_1 = np.array(w_1)\n",
    "w_2 = np.array(w_2)\n",
    "print(w)"
   ]
  },
  {
   "cell_type": "markdown",
   "metadata": {},
   "source": [
    "1.3.1 j)"
   ]
  },
  {
   "cell_type": "markdown",
   "metadata": {},
   "source": [
    "1.3.1 k)"
   ]
  },
  {
   "cell_type": "markdown",
   "metadata": {},
   "source": [
    "1.3.1 l)"
   ]
  },
  {
   "cell_type": "markdown",
   "metadata": {},
   "source": [
    "1.3.2 m)"
   ]
  },
  {
   "cell_type": "markdown",
   "metadata": {},
   "source": [
    "1.3.2 n)"
   ]
  }
 ],
 "metadata": {
  "interpreter": {
   "hash": "a58ef1720100994ae030dcace9c358dd16068fb9b16414a4d7b2917647f3f235"
  },
  "kernelspec": {
   "display_name": "Python 3.9.7 ('base')",
   "language": "python",
   "name": "python3"
  },
  "language_info": {
   "codemirror_mode": {
    "name": "ipython",
    "version": 3
   },
   "file_extension": ".py",
   "mimetype": "text/x-python",
   "name": "python",
   "nbconvert_exporter": "python",
   "pygments_lexer": "ipython3",
   "version": "3.9.7"
  },
  "orig_nbformat": 4
 },
 "nbformat": 4,
 "nbformat_minor": 2
}
